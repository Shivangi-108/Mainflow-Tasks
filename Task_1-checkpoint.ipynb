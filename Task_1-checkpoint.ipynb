{
 "cells": [
  {
   "cell_type": "code",
   "execution_count": 5,
   "id": "d3430e46-a412-4c74-839c-5ed24b27c476",
   "metadata": {},
   "outputs": [
    {
     "name": "stdout",
     "output_type": "stream",
     "text": [
      "Initial list: [2, 5, 9, 13, 30]\n",
      "List after adding an element: [2, 5, 9, 13, 30, 6]\n",
      "List after removing an element: [2, 9, 13, 30, 6]\n",
      "List after modifying an element: [2, 9, 10, 30, 6]\n"
     ]
    }
   ],
   "source": [
    "# Creating a List\n",
    "Listp = [2,5,9,13,30]\n",
    "print(\"Initial list:\", Listp)\n",
    "\n",
    "# Adding an element to the list\n",
    "Listp.append(6)\n",
    "print(\"List after adding an element:\",Listp)\n",
    "\n",
    "# Removing an element from the list\n",
    "Listp.remove(5)\n",
    "print(\"List after removing an element:\", Listp)\n",
    "\n",
    "# Modifying an element in the list\n",
    "Listp[2] = 10\n",
    "print(\"List after modifying an element:\", Listp)\n",
    "\n"
   ]
  },
  {
   "cell_type": "code",
   "execution_count": 7,
   "id": "b89e04a9-5201-46dc-a375-47d58fe15668",
   "metadata": {},
   "outputs": [
    {
     "name": "stdout",
     "output_type": "stream",
     "text": [
      "\n",
      "Initial dictionary: {'a': 1, 'b': 2, 'c': 3, 'd': 4}\n",
      "Dictionary after adding a new key-value pair: {'a': 1, 'b': 2, 'c': 3, 'd': 4, 'e': 15}\n",
      "Dictionary after removing a key-value pair: {'a': 1, 'c': 3, 'd': 4, 'e': 15}\n",
      "Dictionary after modifying a value: {'a': 10, 'c': 3, 'd': 4, 'e': 15}\n"
     ]
    }
   ],
   "source": [
    "# Creating a Dictionary\n",
    "D = {'a': 1, 'b': 2, 'c': 3, 'd':4}\n",
    "print(\"\\nInitial dictionary:\", D)\n",
    "\n",
    "# Adding a key-value pair to the dictionary\n",
    "D['e'] = 15\n",
    "print(\"Dictionary after adding a new key-value pair:\", D)\n",
    "\n",
    "# Removing a key-value pair from the dictionary\n",
    "del D['b']\n",
    "print(\"Dictionary after removing a key-value pair:\", D)\n",
    "\n",
    "# Modifying a value in the dictionary\n",
    "D['a'] = 10\n",
    "print(\"Dictionary after modifying a value:\", D)"
   ]
  },
  {
   "cell_type": "code",
   "execution_count": 11,
   "id": "87998713-2831-489f-b757-af891560d73a",
   "metadata": {},
   "outputs": [
    {
     "name": "stdout",
     "output_type": "stream",
     "text": [
      "\n",
      "Initial set: {1, 2, 3, 4, 5}\n",
      "Set after adding an element: {1, 2, 3, 4, 5, 6}\n",
      "Set after removing an element: {1, 2, 4, 5, 6}\n",
      "Set after modifying an element (removing 4 and adding 10): {1, 2, 5, 6, 10}\n"
     ]
    }
   ],
   "source": [
    "# Creating a Set\n",
    "S = {1, 2, 3, 4, 5}\n",
    "print(\"\\nInitial set:\", S)\n",
    "\n",
    "# Adding an element to the set\n",
    "S.add(6)\n",
    "print(\"Set after adding an element:\", S)\n",
    "\n",
    "# Removing an element from the set\n",
    "S.remove(3)\n",
    "print(\"Set after removing an element:\", S)\n",
    "\n",
    "#Modifying an element\n",
    "S.remove(4)\n",
    "S.add(10)\n",
    "print(\"Set after modifying an element (removing 4 and adding 10):\", S)"
   ]
  },
  {
   "cell_type": "code",
   "execution_count": null,
   "id": "e6e58c90-fe29-4184-9225-c8b9daf69ffb",
   "metadata": {},
   "outputs": [],
   "source": []
  }
 ],
 "metadata": {
  "kernelspec": {
   "display_name": "Python 3 (ipykernel)",
   "language": "python",
   "name": "python3"
  },
  "language_info": {
   "codemirror_mode": {
    "name": "ipython",
    "version": 3
   },
   "file_extension": ".py",
   "mimetype": "text/x-python",
   "name": "python",
   "nbconvert_exporter": "python",
   "pygments_lexer": "ipython3",
   "version": "3.12.4"
  }
 },
 "nbformat": 4,
 "nbformat_minor": 5
}
